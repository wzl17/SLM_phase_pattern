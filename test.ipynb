{
 "metadata": {
  "language_info": {
   "codemirror_mode": {
    "name": "ipython",
    "version": 3
   },
   "file_extension": ".py",
   "mimetype": "text/x-python",
   "name": "python",
   "nbconvert_exporter": "python",
   "pygments_lexer": "ipython3",
   "version": 3
  },
  "orig_nbformat": 2,
  "kernelspec": {
   "name": "python_defaultSpec_1595189082262",
   "display_name": "Python 3.8.2 64-bit ('qutip-env': conda)"
  }
 },
 "nbformat": 4,
 "nbformat_minor": 2,
 "cells": [
  {
   "cell_type": "code",
   "execution_count": 2,
   "metadata": {},
   "outputs": [],
   "source": [
    "import numpy as np "
   ]
  },
  {
   "cell_type": "code",
   "execution_count": 6,
   "metadata": {},
   "outputs": [],
   "source": [
    "x,y = np.meshgrid(np.linspace(-1,1,5), np.linspace(-2,2,5))"
   ]
  },
  {
   "cell_type": "code",
   "execution_count": 4,
   "metadata": {},
   "outputs": [
    {
     "output_type": "execute_result",
     "data": {
      "text/plain": "array([-1. , -0.6, -0.2,  0.2,  0.6,  1. ])"
     },
     "metadata": {},
     "execution_count": 4
    }
   ],
   "source": [
    "np.linspace(-1,1,6)"
   ]
  },
  {
   "cell_type": "code",
   "execution_count": 10,
   "metadata": {},
   "outputs": [
    {
     "output_type": "execute_result",
     "data": {
      "text/plain": "array([[5.  , 4.25, 4.  , 4.25, 5.  ],\n       [2.  , 1.25, 1.  , 1.25, 2.  ],\n       [1.  , 0.25, 0.  , 0.25, 1.  ],\n       [2.  , 1.25, 1.  , 1.25, 2.  ],\n       [5.  , 4.25, 4.  , 4.25, 5.  ]])"
     },
     "metadata": {},
     "execution_count": 10
    }
   ],
   "source": [
    "z = x**2 + y**2\n",
    "z"
   ]
  },
  {
   "cell_type": "code",
   "execution_count": 8,
   "metadata": {},
   "outputs": [
    {
     "output_type": "execute_result",
     "data": {
      "text/plain": "array([[-1. , -0.5,  0. ,  0.5,  1. ],\n       [-1. , -0.5,  0. ,  0.5,  1. ],\n       [-1. , -0.5,  0. ,  0.5,  1. ],\n       [-1. , -0.5,  0. ,  0.5,  1. ],\n       [-1. , -0.5,  0. ,  0.5,  1. ]])"
     },
     "metadata": {},
     "execution_count": 8
    }
   ],
   "source": [
    "x"
   ]
  },
  {
   "cell_type": "code",
   "execution_count": null,
   "metadata": {},
   "outputs": [],
   "source": []
  }
 ]
}